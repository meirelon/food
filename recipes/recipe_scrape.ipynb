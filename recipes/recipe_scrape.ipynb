{
 "cells": [
  {
   "cell_type": "code",
   "execution_count": 58,
   "metadata": {
    "collapsed": true
   },
   "outputs": [],
   "source": [
    "import lxml.html\n",
    "import requests\n",
    "from bs4 import BeautifulSoup as bs\n",
    "import pandas as pd\n",
    "import numpy as np\n",
    "import re\n",
    "import string\n",
    "import warnings\n",
    "import os\n",
    "import urllib\n",
    "warnings.filterwarnings('ignore')"
   ]
  },
  {
   "cell_type": "code",
   "execution_count": 9,
   "metadata": {
    "collapsed": false
   },
   "outputs": [],
   "source": [
    "def get_recipe_keys(page_numbers):\n",
    "    recipe_keys = []\n",
    "    for page_number in page_numbers:\n",
    "        url = 'http://www.epicurious.com/search?content=recipe&page=%d&sort=highestRated' % page_number\n",
    "        r = requests.get(url)\n",
    "        all_tags = bs(r.content)\n",
    "        recipies = np.array([x.get_text().strip() for x in all_tags.find_all(\"a\")])[np.arange(1,105,6)]\n",
    "        recipe_key = [\"-\".join(x.lower().split(\" \")) for x in recipies]\n",
    "        recipe_keys.append(recipe_key)\n",
    "    return([item for sublist in recipe_keys for item in sublist])"
   ]
  },
  {
   "cell_type": "code",
   "execution_count": 8,
   "metadata": {
    "collapsed": false
   },
   "outputs": [],
   "source": [
    "def get_recipe_reviews(recipe):\n",
    "    url = 'http://www.epicurious.com/recipes/food/reviews/%s' % recipe\n",
    "    r = requests.get(url)\n",
    "    all_tags = bs(r.content)\n",
    "    tot_reviews = int(all_tags.find(class_ = \"reviews-count\").get_text())\n",
    "    tot_review_pages = len(range(0,tot_reviews,10))\n",
    "    review_page = 1\n",
    "    review_list = []\n",
    "    while(review_page <= tot_review_pages):\n",
    "        #print(review_page, end=\"|\")\n",
    "        url = 'http://www.epicurious.com/recipes/food/reviews/%s?page=%s' % (recipe, review_page)\n",
    "        r = requests.get(url)\n",
    "        all_tags = bs(r.content)\n",
    "        review_list.append([x.find(\"p\").get_text().strip() for x in all_tags.find_all(\"div\" ,class_ = \"review-text\")])\n",
    "        review_page += 1\n",
    "    return([item for sublist in review_list for item in sublist])\n"
   ]
  },
  {
   "cell_type": "code",
   "execution_count": 37,
   "metadata": {
    "collapsed": true
   },
   "outputs": [],
   "source": [
    "def get_recipe_stats(recipe_name):\n",
    "    recipe_dict = {}\n",
    "    recipe_dict['recipe_id'] = hash(recipe_name) % (10 ** 7)\n",
    "    url = 'http://www.epicurious.com/recipes/food/views/%s' % recipe_name\n",
    "    try:\n",
    "        r = requests.get(url)\n",
    "    except:\n",
    "        return(np.nan)\n",
    "    all_tags = bs(r.content)\n",
    "    recipe_dict['name'] = all_tags.find(\"h1\").get_text().strip()\n",
    "    try:\n",
    "        recipe_dict['cooking_stats'] = [int(re.findall(string = x.get_text(), pattern = \"^\\d+\")[0]) for x in all_tags.find_all(\"dd\")]\n",
    "    except:\n",
    "        pass\n",
    "    \n",
    "    nutritional_labels = [x.get_text().strip() for x in all_tags.find_all(class_ = \"nutri-label\")]\n",
    "    nutritional_data = [x.get_text().strip() for x in all_tags.find_all(class_ = \"nutri-data\")]\n",
    "    recipe_dict['nutrition'] = dict(zip(nutritional_labels, nutritional_data))\n",
    "    recipe_dict['ingredients'] = [x.get_text().strip() for x in all_tags.find_all(\"li\", class_ = 'ingredient')]\n",
    "    recipe_dict['tags'] = [x.get_text().strip() for x in all_tags.find_all(\"dt\")][3:]\n",
    "    #For page reviews\n",
    "    try:\n",
    "        recipe_dict['reviews'] = get_recipe_reviews(recipe_name)\n",
    "    except:\n",
    "        pass\n",
    "    \n",
    "    return(recipe_dict)"
   ]
  },
  {
   "cell_type": "code",
   "execution_count": 10,
   "metadata": {
    "collapsed": false
   },
   "outputs": [],
   "source": [
    "recipe_names = get_recipe_keys(range(1,2))"
   ]
  },
  {
   "cell_type": "code",
   "execution_count": 38,
   "metadata": {
    "collapsed": false
   },
   "outputs": [],
   "source": [
    "recipes = [get_recipe_stats(x) for x in recipe_names]"
   ]
  },
  {
   "cell_type": "code",
   "execution_count": 39,
   "metadata": {
    "collapsed": false
   },
   "outputs": [
    {
     "data": {
      "text/plain": [
       "{'cooking_stats': [4, 45, 45],\n",
       " 'ingredients': ['8 small bone-in, skin-on chicken thighs (about 3 pounds)',\n",
       "  '2 teaspoons kosher salt, divided',\n",
       "  '1 teaspoon freshly ground black pepper, divided',\n",
       "  '1 pound asparagus, trimmed',\n",
       "  '1 pound baby new potatoes, halved if larger than 1/2\"',\n",
       "  '1 bunch radishes (about 1/2 pound), halved',\n",
       "  '2 tablespoons plus 2 teaspoons vegetable oil, divided',\n",
       "  '3 garlic cloves, finely chopped',\n",
       "  '1 tablespoon anchovy paste, or 6 fillets, finely chopped',\n",
       "  '1/2 cup (1 stick) cold butter, cut into 1-tablespoon pieces, divided',\n",
       "  '1/2 cup dry white wine',\n",
       "  '1 tablespoon fresh lemon juice',\n",
       "  '1 tablespoon finely chopped parsley, plus more for serving'],\n",
       " 'name': 'Crispy Chicken Thighs with Spring Vegetables',\n",
       " 'nutrition': {'Calories': '1006',\n",
       "  'Carbohydrates': '29 g(10%)',\n",
       "  'Cholesterol': '344 mg(115%)',\n",
       "  'Fat': '69 g(107%)',\n",
       "  'Fiber': '6 g(24%)',\n",
       "  'Monounsaturated Fat': '31 g',\n",
       "  'Polyunsaturated Fat': '14 g',\n",
       "  'Protein': '62 g(125%)',\n",
       "  'Saturated Fat': '18 g(90%)',\n",
       "  'Sodium': '1373 mg(57%)'},\n",
       " 'recipe_id': 3932699,\n",
       " 'reviews': ['This was absolutely delicious! I made this for the two boys I nanny for, and was so glad I made all the vegetables, because none of the adults could stop eating them. The chicken came out perfectly and the sauce was incredible. This goes in the trove of treasured guaranteed-hit recipes. Thank you!',\n",
       "  'This is great, very tasty. Is it really 1000 calories per serving? That seems a bit high.'],\n",
       " 'tags': ['Spring',\n",
       "  'Chicken',\n",
       "  'Asparagus',\n",
       "  'Potato',\n",
       "  'Radish',\n",
       "  'Garlic',\n",
       "  'Anchovy',\n",
       "  'Butter',\n",
       "  'White Wine',\n",
       "  'Wheat/Gluten-Free',\n",
       "  'Dinner',\n",
       "  'Quick & Easy',\n",
       "  'Quick and Healthy']}"
      ]
     },
     "execution_count": 39,
     "metadata": {},
     "output_type": "execute_result"
    }
   ],
   "source": [
    "recipes[2]"
   ]
  }
 ],
 "metadata": {
  "kernelspec": {
   "display_name": "Python 3",
   "language": "python",
   "name": "python3"
  },
  "language_info": {
   "codemirror_mode": {
    "name": "ipython",
    "version": 3
   },
   "file_extension": ".py",
   "mimetype": "text/x-python",
   "name": "python",
   "nbconvert_exporter": "python",
   "pygments_lexer": "ipython3",
   "version": "3.6.0"
  }
 },
 "nbformat": 4,
 "nbformat_minor": 2
}
