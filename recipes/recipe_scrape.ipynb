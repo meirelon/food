{
 "cells": [
  {
   "cell_type": "code",
   "execution_count": 22,
   "metadata": {
    "collapsed": true
   },
   "outputs": [],
   "source": [
    "import lxml.html\n",
    "import requests\n",
    "from bs4 import BeautifulSoup as bs\n",
    "import pandas as pd\n",
    "import numpy as np\n",
    "import re\n",
    "import string\n",
    "import warnings\n",
    "import os\n",
    "warnings.filterwarnings('ignore')"
   ]
  },
  {
   "cell_type": "code",
   "execution_count": 116,
   "metadata": {
    "collapsed": false
   },
   "outputs": [],
   "source": [
    "def get_recipe_keys(page_numbers):\n",
    "    recipe_keys = []\n",
    "    for page_number in page_numbers:\n",
    "        url = 'http://www.epicurious.com/search?content=recipe&page=%d&sort=highestRated' % page_number\n",
    "        r = requests.get(url)\n",
    "        all_tags = bs(r.content)\n",
    "        recipies = np.array([x.get_text().strip() for x in all_tags.find_all(\"a\")])[np.arange(1,105,6)]\n",
    "        recipe_key = [\"-\".join(x.lower().split(\" \")) for x in recipies]\n",
    "        recipe_keys.append(recipe_key)\n",
    "    return([item for sublist in recipe_keys for item in sublist])"
   ]
  },
  {
   "cell_type": "code",
   "execution_count": 127,
   "metadata": {
    "collapsed": true
   },
   "outputs": [],
   "source": [
    "def get_recipe_stats(recipe_name):\n",
    "    url = 'http://www.epicurious.com/recipes/food/views/%s' % recipe_name\n",
    "    try:\n",
    "        r = requests.get(url)\n",
    "    except:\n",
    "        return(np.nan)\n",
    "    all_tags = bs(r.content)\n",
    "    name = all_tags.find(\"h1\").get_text().strip()\n",
    "    try:\n",
    "        cooking_stats = [int(re.findall(string = x.get_text(), pattern = \"^\\d+\")[0]) for x in all_tags.find_all(\"dd\")]\n",
    "        servings = cooking_stats[0]\n",
    "        active_time = cooking_stats[1]\n",
    "        total_time = cooking_stats[2]\n",
    "    except:\n",
    "        pass\n",
    "    nutritional_labels = [x.get_text().strip() for x in all_tags.find_all(class_ = \"nutri-label\")]\n",
    "    nutritional_data = [x.get_text().strip() for x in all_tags.find_all(class_ = \"nutri-data\")]\n",
    "    \n",
    "    #For page reviews\n",
    "    url = 'http://www.epicurious.com/recipes/food/reviews/slow-cooker-amaretto-poached-peaches'\n",
    "    r = requests.get(url)\n",
    "    all_tags = bs(r.content)\n",
    "    reviews = [x.find(\"p\").get_text().strip() for x in all_tags.find_all(\"div\" ,class_ = \"review-text\")]\n",
    "    return(dict(zip(nutritional_labels, nutritional_data)))"
   ]
  },
  {
   "cell_type": "code",
   "execution_count": 128,
   "metadata": {
    "collapsed": false
   },
   "outputs": [
    {
     "data": {
      "text/plain": [
       "['pasta-with-shrimp-in-tomato-cream',\n",
       " 'green-goddess-buddha-bowl',\n",
       " 'crispy-chicken-thighs-with-spring-vegetables',\n",
       " 'one-skillet-steak-and-spring-veg-with-spicy-mustard',\n",
       " 'one-skillet-roasted-butternut-squash-with-spiced-chickpeas',\n",
       " 'pasta-with-ramp-pesto-and-guanciale',\n",
       " 'warm-chicken-salad-with-creamy-dill-dressing',\n",
       " 'spiced-moroccan-vegetable-soup-with-chickpeas,-cilantro,-and-lemon',\n",
       " 'granola-bark',\n",
       " 'mini-beef-and-mushroom-patties',\n",
       " 'spring-risotto',\n",
       " 'classic-cream-cheese-frosting',\n",
       " 'soy-sauce-and-citrus-marinated-chicken',\n",
       " 'turkish-lamb-chops-with-sumac,-tahini,-and-dill',\n",
       " 'gluten-free-rice-buns',\n",
       " 'mixed-citrus-daiquiri',\n",
       " 'gingery-chicken-soup-with-zucchini-“noodles”',\n",
       " 'cinnamon-white-hot-chocolate']"
      ]
     },
     "execution_count": 128,
     "metadata": {},
     "output_type": "execute_result"
    }
   ],
   "source": [
    "recipe_names = get_recipe_keys(range(1,2))\n",
    "recipe_names"
   ]
  },
  {
   "cell_type": "code",
   "execution_count": 129,
   "metadata": {
    "collapsed": false
   },
   "outputs": [
    {
     "name": "stdout",
     "output_type": "stream",
     "text": [
      "pasta-with-shrimp-in-tomato-cream green-goddess-buddha-bowl crispy-chicken-thighs-with-spring-vegetables one-skillet-steak-and-spring-veg-with-spicy-mustard one-skillet-roasted-butternut-squash-with-spiced-chickpeas pasta-with-ramp-pesto-and-guanciale warm-chicken-salad-with-creamy-dill-dressing spiced-moroccan-vegetable-soup-with-chickpeas,-cilantro,-and-lemon granola-bark mini-beef-and-mushroom-patties spring-risotto classic-cream-cheese-frosting soy-sauce-and-citrus-marinated-chicken turkish-lamb-chops-with-sumac,-tahini,-and-dill gluten-free-rice-buns mixed-citrus-daiquiri gingery-chicken-soup-with-zucchini-“noodles” cinnamon-white-hot-chocolate "
     ]
    }
   ],
   "source": [
    "recipe_reviews = []\n",
    "for recipe_name in recipe_names:\n",
    "    print(recipe_name, end = \" \")\n",
    "    recipe_reviews.append(get_recipe_stats(recipe_name))"
   ]
  },
  {
   "cell_type": "code",
   "execution_count": 130,
   "metadata": {
    "collapsed": false
   },
   "outputs": [
    {
     "data": {
      "text/plain": [
       "[{'Calories': '828',\n",
       "  'Carbohydrates': '77 g(26%)',\n",
       "  'Cholesterol': '259 mg(86%)',\n",
       "  'Fat': '40 g(61%)',\n",
       "  'Fiber': '5 g(18%)',\n",
       "  'Monounsaturated Fat': '14 g',\n",
       "  'Polyunsaturated Fat': '3 g',\n",
       "  'Protein': '36 g(71%)',\n",
       "  'Saturated Fat': '21 g(105%)',\n",
       "  'Sodium': '1111 mg(46%)'},\n",
       " {'Calories': '1210',\n",
       "  'Carbohydrates': '179 g(60%)',\n",
       "  'Cholesterol': '194 mg(65%)',\n",
       "  'Fat': '42 g(65%)',\n",
       "  'Fiber': '16 g(66%)',\n",
       "  'Monounsaturated Fat': '23 g',\n",
       "  'Polyunsaturated Fat': '8 g',\n",
       "  'Protein': '37 g(74%)',\n",
       "  'Saturated Fat': '8 g(42%)',\n",
       "  'Sodium': '1248 mg(52%)'},\n",
       " {'Calories': '1006',\n",
       "  'Carbohydrates': '29 g(10%)',\n",
       "  'Cholesterol': '344 mg(115%)',\n",
       "  'Fat': '69 g(107%)',\n",
       "  'Fiber': '6 g(24%)',\n",
       "  'Monounsaturated Fat': '31 g',\n",
       "  'Polyunsaturated Fat': '14 g',\n",
       "  'Protein': '62 g(125%)',\n",
       "  'Saturated Fat': '18 g(90%)',\n",
       "  'Sodium': '1373 mg(57%)'},\n",
       " {'Calories': '620',\n",
       "  'Carbohydrates': '19 g(6%)',\n",
       "  'Cholesterol': '93 mg(31%)',\n",
       "  'Fat': '49 g(75%)',\n",
       "  'Fiber': '6 g(25%)',\n",
       "  'Monounsaturated Fat': '29 g',\n",
       "  'Polyunsaturated Fat': '4 g',\n",
       "  'Protein': '29 g(57%)',\n",
       "  'Saturated Fat': '12 g(59%)',\n",
       "  'Sodium': '374 mg(16%)'},\n",
       " {'Calories': '408',\n",
       "  'Carbohydrates': '52 g(17%)',\n",
       "  'Cholesterol': '5 mg(2%)',\n",
       "  'Fat': '19 g(29%)',\n",
       "  'Fiber': '13 g(52%)',\n",
       "  'Monounsaturated Fat': '11 g',\n",
       "  'Polyunsaturated Fat': '3 g',\n",
       "  'Protein': '13 g(26%)',\n",
       "  'Saturated Fat': '3 g(17%)',\n",
       "  'Sodium': '293 mg(12%)'},\n",
       " {},\n",
       " {},\n",
       " {},\n",
       " {'': '',\n",
       "  'Calories': '310',\n",
       "  'Carbohydrates': '26 g(9%)',\n",
       "  'Fat': '21 g(33%)',\n",
       "  'Fiber': '6 g(25%)',\n",
       "  'Monounsaturated Fat': '10 g',\n",
       "  'Polyunsaturated Fat': '5 g',\n",
       "  'Protein': '7 g(14%)',\n",
       "  'Saturated Fat': '5 g(26%)',\n",
       "  'Sodium': '72 mg(3%)'},\n",
       " {},\n",
       " {'Calories': '809',\n",
       "  'Carbohydrates': '103 g(34%)',\n",
       "  'Cholesterol': '18 mg(6%)',\n",
       "  'Fat': '31 g(48%)',\n",
       "  'Fiber': '10 g(40%)',\n",
       "  'Monounsaturated Fat': '18 g',\n",
       "  'Polyunsaturated Fat': '5 g',\n",
       "  'Protein': '23 g(47%)',\n",
       "  'Saturated Fat': '7 g(36%)',\n",
       "  'Sodium': '989 mg(41%)'},\n",
       " {'Calories': '286',\n",
       "  'Carbohydrates': '29 g(10%)',\n",
       "  'Cholesterol': '52 mg(17%)',\n",
       "  'Fat': '20 g(30%)',\n",
       "  'Fiber': '0 g(0%)',\n",
       "  'Monounsaturated Fat': '5 g',\n",
       "  'Polyunsaturated Fat': '1 g',\n",
       "  'Protein': '1 g(1%)',\n",
       "  'Saturated Fat': '12 g(61%)',\n",
       "  'Sodium': '122 mg(5%)'},\n",
       " {'Calories': '1080',\n",
       "  'Carbohydrates': '39 g(13%)',\n",
       "  'Cholesterol': '319 mg(106%)',\n",
       "  'Fat': '65 g(99%)',\n",
       "  'Fiber': '4 g(17%)',\n",
       "  'Monounsaturated Fat': '27 g',\n",
       "  'Polyunsaturated Fat': '14 g',\n",
       "  'Protein': '85 g(169%)',\n",
       "  'Saturated Fat': '18 g(92%)',\n",
       "  'Sodium': '2764 mg(115%)'},\n",
       " {},\n",
       " {},\n",
       " {'': '',\n",
       "  'Calories': '179',\n",
       "  'Carbohydrates': '12 g(4%)',\n",
       "  'Fat': '0 g(0%)',\n",
       "  'Fiber': '2 g(7%)',\n",
       "  'Monounsaturated Fat': '0 g',\n",
       "  'Polyunsaturated Fat': '0 g',\n",
       "  'Protein': '1 g(1%)',\n",
       "  'Saturated Fat': '0 g(0%)',\n",
       "  'Sodium': '4 mg(0%)'},\n",
       " {},\n",
       " {'Calories': '365',\n",
       "  'Carbohydrates': '38 g(13%)',\n",
       "  'Cholesterol': '36 mg(12%)',\n",
       "  'Fat': '19 g(29%)',\n",
       "  'Fiber': '3 g(11%)',\n",
       "  'Monounsaturated Fat': '5 g',\n",
       "  'Polyunsaturated Fat': '1 g',\n",
       "  'Protein': '11 g(23%)',\n",
       "  'Saturated Fat': '11 g(56%)',\n",
       "  'Sodium': '277 mg(12%)'}]"
      ]
     },
     "execution_count": 130,
     "metadata": {},
     "output_type": "execute_result"
    }
   ],
   "source": [
    "recipe_reviews"
   ]
  }
 ],
 "metadata": {
  "kernelspec": {
   "display_name": "Python 3",
   "language": "python",
   "name": "python3"
  },
  "language_info": {
   "codemirror_mode": {
    "name": "ipython",
    "version": 3
   },
   "file_extension": ".py",
   "mimetype": "text/x-python",
   "name": "python",
   "nbconvert_exporter": "python",
   "pygments_lexer": "ipython3",
   "version": "3.6.0"
  }
 },
 "nbformat": 4,
 "nbformat_minor": 2
}
